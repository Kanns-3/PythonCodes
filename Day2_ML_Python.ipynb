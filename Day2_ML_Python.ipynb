{
  "nbformat": 4,
  "nbformat_minor": 0,
  "metadata": {
    "colab": {
      "provenance": []
    },
    "kernelspec": {
      "name": "python3",
      "display_name": "Python 3"
    },
    "language_info": {
      "name": "python"
    }
  },
  "cells": [
    {
      "cell_type": "code",
      "execution_count": 23,
      "metadata": {
        "colab": {
          "base_uri": "https://localhost:8080/"
        },
        "id": "HpmbKqI7jltH",
        "outputId": "0b723663-8594-41fb-a059-5de9090af9c4"
      },
      "outputs": [
        {
          "output_type": "stream",
          "name": "stdout",
          "text": [
            "[1, 5.1, 'Hi', (3+4j), ['t', 'y', 'v']]\n",
            "<class 'list'>\n",
            "(4, 3, 1)\n",
            "<class 'tuple'>\n",
            "{1: 'one', 2: 'two'}\n",
            "<class 'dict'>\n"
          ]
        }
      ],
      "source": [
        "# List, tuple, dict\n",
        "l = [1,5.1,\"Hi\",3+4j,['t','y','v']]   # list is created with square bracket, it can have any combination within\n",
        "print(l)\n",
        "print(type(l))\n",
        "t = (10,43,32)    # round bracket, value can not be changed, not insert, not delete\n",
        "print(t)\n",
        "print(type(t))\n",
        "d = {1:\"one\",2:\"two\"}   # curly bracket, unordered key_value, we are giving index value(key)\n",
        "                        # {key:value} -> key-int,float,str | value-int,float,str,list,tuple,dict\n",
        "print(d)\n",
        "print(type(d))"
      ]
    },
    {
      "cell_type": "code",
      "source": [
        "# complex, isinstance\n",
        "a = 3+6j\n",
        "print(a)\n",
        "print(type(a))\n",
        "a = 10.0\n",
        "print(isinstance(a,int))    # show true or false for given datatype, not history"
      ],
      "metadata": {
        "id": "34ZbDQBAxLWX",
        "colab": {
          "base_uri": "https://localhost:8080/"
        },
        "outputId": "625c6b76-3467-459d-9f3c-11ff47342f5c"
      },
      "execution_count": 9,
      "outputs": [
        {
          "output_type": "stream",
          "name": "stdout",
          "text": [
            "(3+6j)\n",
            "<class 'complex'>\n",
            "False\n"
          ]
        }
      ]
    },
    {
      "cell_type": "code",
      "source": [
        "# variable anotations\n",
        "name: str = \"VKN\"     # assigning datatype as string (this is annotation / tag)\n",
        "print(name)\n",
        "name = 10             # python alow any value & change datatype\n",
        "print(type(name))     # will show datatype for present value\n",
        "print(__annotations__['name'])    # will show datatype that is assigned for reference"
      ],
      "metadata": {
        "colab": {
          "base_uri": "https://localhost:8080/"
        },
        "id": "7epo3TfGUmaQ",
        "outputId": "540d7f2e-ec97-45e9-de94-3f0cc22a7baf"
      },
      "execution_count": 14,
      "outputs": [
        {
          "output_type": "stream",
          "name": "stdout",
          "text": [
            "VKN\n",
            "<class 'int'>\n",
            "<class 'str'>\n"
          ]
        }
      ]
    },
    {
      "cell_type": "code",
      "source": [
        "#"
      ],
      "metadata": {
        "id": "Xbi1BJUFZJb7"
      },
      "execution_count": null,
      "outputs": []
    }
  ]
}