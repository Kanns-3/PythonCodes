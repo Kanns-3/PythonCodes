{
  "nbformat": 4,
  "nbformat_minor": 0,
  "metadata": {
    "colab": {
      "provenance": []
    },
    "kernelspec": {
      "name": "python3",
      "display_name": "Python 3"
    },
    "language_info": {
      "name": "python"
    }
  },
  "cells": [
    {
      "cell_type": "code",
      "source": [
        "# complex, isinstance\n",
        "a = 3+6j\n",
        "print(a)\n",
        "print(type(a))\n",
        "a = 10.0\n",
        "print(isinstance(a,int))    # show true or false for given datatype, not history"
      ],
      "metadata": {
        "id": "34ZbDQBAxLWX",
        "colab": {
          "base_uri": "https://localhost:8080/"
        },
        "outputId": "625c6b76-3467-459d-9f3c-11ff47342f5c"
      },
      "execution_count": null,
      "outputs": [
        {
          "output_type": "stream",
          "name": "stdout",
          "text": [
            "(3+6j)\n",
            "<class 'complex'>\n",
            "False\n"
          ]
        }
      ]
    },
    {
      "cell_type": "code",
      "source": [
        "# variable anotations\n",
        "name: str = \"VKN\"             # assigning datatype as string (this is annotation / tag)\n",
        "print(name)\n",
        "name = 10                     # python alow any value & change datatype\n",
        "print(type(name))             # will show datatype for present value\n",
        "print(__annotations__['name'])    # will show datatype that is assigned for reference"
      ],
      "metadata": {
        "colab": {
          "base_uri": "https://localhost:8080/"
        },
        "id": "7epo3TfGUmaQ",
        "outputId": "540d7f2e-ec97-45e9-de94-3f0cc22a7baf"
      },
      "execution_count": null,
      "outputs": [
        {
          "output_type": "stream",
          "name": "stdout",
          "text": [
            "VKN\n",
            "<class 'int'>\n",
            "<class 'str'>\n"
          ]
        }
      ]
    },
    {
      "cell_type": "code",
      "execution_count": 10,
      "metadata": {
        "colab": {
          "base_uri": "https://localhost:8080/"
        },
        "id": "HpmbKqI7jltH",
        "outputId": "68b26616-8bf3-427f-fd66-47fbaee4e8f0"
      },
      "outputs": [
        {
          "output_type": "stream",
          "name": "stdout",
          "text": [
            "[1, 5.1, 'Hi', (3+4j), ['t', 'y', 'v']]\n",
            "<class 'list'>\n",
            "(10, 43, 32)\n",
            "<class 'tuple'>\n",
            "{1: 'one', 2: 'two'}\n",
            "<class 'dict'>\n",
            "{'C001': [3, 4, 5], 'C002': 'second'}\n",
            "second\n",
            "<class 'set'>\n",
            "range(0, 5, 2)\n",
            "None\n"
          ]
        }
      ],
      "source": [
        "# List, tuple, dict, range, none, bool\n",
        "l = [1,5.1,\"Hi\",3+4j,['t','y','v']]   # list is created with square bracket, it can have any combination within\n",
        "print(l)\n",
        "print(type(l))\n",
        "\n",
        "t = (10,43,32)          # round bracket, value can not be changed, not insert, not delete\n",
        "print(t)\n",
        "print(type(t))\n",
        "\n",
        "d = {1:\"one\",2:\"two\"}   # curly bracket, unordered key_value, we are giving index value(key)\n",
        "                        # {key:value} -> key-int,float,str | value-int,float,str,list,tuple,dict\n",
        "print(d)\n",
        "print(type(d))\n",
        "d1 = {\"C001\":[3,4,5],\"C002\":\"second\"}\n",
        "print(d1)\n",
        "print((d1['C002']))\n",
        "\n",
        "S = {11,22,33}          # unordered uniquie value, no duplicates\n",
        "print(type(S))\n",
        "\n",
        "R = range(0,5,2)\n",
        "print(R)\n",
        "\n",
        "n = None\n",
        "print(n)\n"
      ]
    },
    {
      "cell_type": "code",
      "source": [
        "# Operator - Arithmetic(+-*/%//), Compare, etc"
      ],
      "metadata": {
        "id": "G8lNiaR0e3oM"
      },
      "execution_count": null,
      "outputs": []
    },
    {
      "cell_type": "code",
      "source": [
        "# index , slicing\n",
        "name = \"where are employees\"\n",
        "print(name[0])\n",
        "print(name[-4])\n",
        "print(name[0:2])      # slice, start-stop, stop excluded\n",
        "print(name[6:15:2])    # last digit minus 1\n",
        "print(name[:7])\n",
        "print(name[5:])"
      ],
      "metadata": {
        "id": "6V4fZw-shcjc",
        "outputId": "d63c6345-a2b1-476f-bb62-c067c6bd0930",
        "colab": {
          "base_uri": "https://localhost:8080/"
        }
      },
      "execution_count": null,
      "outputs": [
        {
          "output_type": "stream",
          "name": "stdout",
          "text": [
            "w\n",
            "y\n",
            "wh\n",
            "aeepo\n",
            "where a\n",
            " are employees\n"
          ]
        }
      ]
    },
    {
      "cell_type": "code",
      "source": [
        "#"
      ],
      "metadata": {
        "id": "Xbi1BJUFZJb7"
      },
      "execution_count": null,
      "outputs": []
    },
    {
      "cell_type": "code",
      "source": [
        "d2 = dict(name=\"John\", age=45, exp=8.9)\n",
        "print(d2)\n",
        "print(d2.keys())\n",
        "rt = d2.values()\n",
        "print(rt)\n",
        "et = d2.items()\n",
        "print(et)\n",
        "d2.get(\"age\")\n",
        "#del d2[\"name\"]\n",
        "#del d2\n",
        "#d2.clear()"
      ],
      "metadata": {
        "colab": {
          "base_uri": "https://localhost:8080/"
        },
        "id": "9SmDsApED_3C",
        "outputId": "a7b2e67d-fbd9-444e-cca4-f188723e190c"
      },
      "execution_count": 15,
      "outputs": [
        {
          "output_type": "stream",
          "name": "stdout",
          "text": [
            "{'name': 'John', 'age': 45, 'exp': 8.9}\n",
            "dict_keys(['name', 'age', 'exp'])\n",
            "dict_values(['John', 45, 8.9])\n",
            "dict_items([('name', 'John'), ('age', 45), ('exp', 8.9)])\n"
          ]
        },
        {
          "output_type": "execute_result",
          "data": {
            "text/plain": [
              "45"
            ]
          },
          "metadata": {},
          "execution_count": 15
        }
      ]
    },
    {
      "cell_type": "code",
      "source": [
        "#function\n",
        "def addnumbers(a,b):\n",
        "  c=a+b;\n",
        "  print(a,b,c)\n",
        "addnumbers(10,25)"
      ],
      "metadata": {
        "colab": {
          "base_uri": "https://localhost:8080/"
        },
        "id": "oCsDlBMBNEUY",
        "outputId": "8967744e-db38-457a-adb1-afadfb71a308"
      },
      "execution_count": 16,
      "outputs": [
        {
          "output_type": "stream",
          "name": "stdout",
          "text": [
            "10 25 35\n"
          ]
        }
      ]
    }
  ]
}