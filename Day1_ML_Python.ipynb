{
  "cells": [
    {
      "cell_type": "code",
      "source": [
        "a=100\n",
        "print('a memory location',id(a))    # ID show memory location of value not variable\n",
        "b=100\n",
        "print('b memory location',id(b))\n",
        "c=20\n",
        "print('c memory location',id(c))\n",
        "b=c\n",
        "print('b memory location',id(b))"
      ],
      "metadata": {
        "colab": {
          "base_uri": "https://localhost:8080/"
        },
        "id": "pEF5TSIz5TlO",
        "outputId": "90da175c-47d3-43c6-962b-cd7c617db3d7"
      },
      "execution_count": 7,
      "outputs": [
        {
          "output_type": "stream",
          "name": "stdout",
          "text": [
            "a memory location 10754024\n",
            "b memory location 10754024\n",
            "c memory location 10751464\n",
            "b memory location 10751464\n"
          ]
        }
      ]
    },
    {
      "cell_type": "code",
      "source": [
        "\n",
        "x,y,z = 10,20,30\n",
        "print(x,y,z)\n",
        "x=y=42\n",
        "print(x,y,z)\n",
        "\n",
        "import keyword\n",
        "print(keyword.kwlist) # it list all the keyword in python\n",
        "\n",
        "#del=10     # keyword cannot be used as variable"
      ],
      "metadata": {
        "id": "nsXV9dSl6-ws",
        "outputId": "4f53d668-0e56-4341-c0b5-36d0a2722e4b",
        "colab": {
          "base_uri": "https://localhost:8080/"
        }
      },
      "execution_count": 9,
      "outputs": [
        {
          "output_type": "stream",
          "name": "stdout",
          "text": [
            "10 20 30\n",
            "42 42 30\n",
            "['False', 'None', 'True', 'and', 'as', 'assert', 'async', 'await', 'break', 'class', 'continue', 'def', 'del', 'elif', 'else', 'except', 'finally', 'for', 'from', 'global', 'if', 'import', 'in', 'is', 'lambda', 'nonlocal', 'not', 'or', 'pass', 'raise', 'return', 'try', 'while', 'with', 'yield']\n"
          ]
        }
      ]
    },
    {
      "cell_type": "code",
      "source": [
        "# multiple comments with 3 quotes\n",
        "\"\"\"test check\n",
        "done\"\"\"\n",
        "\n",
        "a='NTT'\n",
        "b=\"Data\"\n",
        "print(a,b)\n",
        "print(b[0])\n",
        "print(b[-2])"
      ],
      "metadata": {
        "id": "NLPpZlGo7Kow",
        "outputId": "dc4de917-21d6-49b4-ebc6-14115657b759",
        "colab": {
          "base_uri": "https://localhost:8080/"
        }
      },
      "execution_count": 10,
      "outputs": [
        {
          "output_type": "stream",
          "name": "stdout",
          "text": [
            "NTT Data\n",
            "D\n",
            "t\n"
          ]
        }
      ]
    },
    {
      "cell_type": "code",
      "source": [
        "first_name = \"Kannappan\"\n",
        "last_name = 'Ram'\n",
        "print('Employee Name : ',first_name,last_name)  #merge variable in print\n",
        "print(type(first_name)) # give type of variable"
      ],
      "metadata": {
        "id": "ys-1zmlC6mD7",
        "outputId": "8017b098-eaa5-43e7-e844-ba557f9ca5c6",
        "colab": {
          "base_uri": "https://localhost:8080/"
        }
      },
      "execution_count": 11,
      "outputs": [
        {
          "output_type": "stream",
          "name": "stdout",
          "text": [
            "Employee Name :  Kannappan Ram\n",
            "<class 'str'>\n"
          ]
        }
      ]
    },
    {
      "cell_type": "code",
      "source": [
        "x = int(3.1) #giving variable type\n",
        "print(x)\n",
        "\n",
        "#num = float(\"hello\") #string can not be store in number type\n",
        "#print(type(num))\n",
        "#print(num)"
      ],
      "metadata": {
        "id": "5F12-hCP7iLt",
        "outputId": "0b8f198e-a85f-4796-d345-db1bd4d78bef",
        "colab": {
          "base_uri": "https://localhost:8080/"
        }
      },
      "execution_count": 14,
      "outputs": [
        {
          "output_type": "stream",
          "name": "stdout",
          "text": [
            "3\n"
          ]
        }
      ]
    },
    {
      "cell_type": "code",
      "source": [
        "vdata=\"Ham\"\n",
        "for ne in vdata:\n",
        "    print(ne)\n",
        "\n",
        "raw=\"Various\"\n",
        "for k in raw:\n",
        "    print(k)\n",
        "    if k == 'r':    #stops at r, because of break. print happens before in this case\n",
        "        break;\n",
        "\n",
        "\n",
        "for t in range(0,10,3):   # 0 to 10 increment of 3\n",
        "    print(t)\n",
        "\n",
        "data=[1,4,6,7,8,12,45,67]\n",
        "i=1\n",
        "while i<=3:\n",
        "    print(data[i])\n",
        "    i+=1\n",
        "else:\n",
        "    print(\"iteration complete\",i)"
      ],
      "metadata": {
        "id": "uJF3QJoL76GL",
        "outputId": "7fc3ee66-2708-43df-ea1c-0dbf02b4c29c",
        "colab": {
          "base_uri": "https://localhost:8080/"
        }
      },
      "execution_count": 22,
      "outputs": [
        {
          "output_type": "stream",
          "name": "stdout",
          "text": [
            "H\n",
            "a\n",
            "m\n",
            "V\n",
            "a\n",
            "r\n",
            "0\n",
            "3\n",
            "6\n",
            "9\n",
            "4\n",
            "6\n",
            "7\n",
            "iteration complete 4\n"
          ]
        }
      ]
    }
  ],
  "metadata": {
    "colab": {
      "name": "Get_started.ipynb",
      "toc_visible": true,
      "provenance": []
    },
    "kernelspec": {
      "display_name": "Python 3",
      "name": "python3"
    }
  },
  "nbformat": 4,
  "nbformat_minor": 0
}