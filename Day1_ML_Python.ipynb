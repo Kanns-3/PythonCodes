{
  "cells": [
    {
      "cell_type": "code",
      "source": [
        "a=100\n",
        "print('a memory location',id(a))    # ID show memory location of value not variable\n",
        "b=100\n",
        "print('b memory location',id(b))\n",
        "c=20\n",
        "print('c memory location',id(c))\n",
        "b=c\n",
        "print('b memory location',id(b))\n",
        "\n",
        "x,y,z = 10,20,30\n",
        "print(x,y,z)\n",
        "x=y=42\n",
        "print(x,y,z)\n",
        "\n",
        "import keyword\n",
        "print(keyword.kwlist) # it list all the keyword in python\n",
        "\n",
        "#del=10     # keyword cannot be used as variable\n",
        "\n",
        "# multiple comments with 3 quotes\n",
        "\"\"\"test\n",
        "check\n",
        "done\"\"\"\n",
        "\n",
        "a='NTT'\n",
        "b=\"Data\"\n",
        "print(a,b)\n",
        "print(b[0])\n",
        "print(b[-2])"
      ],
      "metadata": {
        "colab": {
          "base_uri": "https://localhost:8080/"
        },
        "id": "pEF5TSIz5TlO",
        "outputId": "b8bc81bb-fbee-415f-844d-7b3013077259"
      },
      "execution_count": 5,
      "outputs": [
        {
          "output_type": "stream",
          "name": "stdout",
          "text": [
            "a memory location 10754024\n",
            "b memory location 10754024\n",
            "c memory location 10751464\n",
            "b memory location 10751464\n",
            "10 20 30\n",
            "42 42 30\n",
            "['False', 'None', 'True', 'and', 'as', 'assert', 'async', 'await', 'break', 'class', 'continue', 'def', 'del', 'elif', 'else', 'except', 'finally', 'for', 'from', 'global', 'if', 'import', 'in', 'is', 'lambda', 'nonlocal', 'not', 'or', 'pass', 'raise', 'return', 'try', 'while', 'with', 'yield']\n",
            "NTT Data\n",
            "D\n",
            "t\n"
          ]
        }
      ]
    }
  ],
  "metadata": {
    "colab": {
      "name": "Get_started.ipynb",
      "toc_visible": true,
      "provenance": []
    },
    "kernelspec": {
      "display_name": "Python 3",
      "name": "python3"
    }
  },
  "nbformat": 4,
  "nbformat_minor": 0
}